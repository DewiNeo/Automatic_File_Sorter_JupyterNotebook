{
 "cells": [
  {
   "cell_type": "markdown",
   "id": "70484105",
   "metadata": {},
   "source": [
    "# Automatic File Sorter in File Explorer\n"
   ]
  },
  {
   "cell_type": "code",
   "execution_count": 4,
   "id": "e17d5e96",
   "metadata": {},
   "outputs": [],
   "source": [
    "import os, shutil\n",
    "# os -> operation system\n",
    "# shittil -> is for allow us to do some high level operations on our files in file explorer"
   ]
  },
  {
   "cell_type": "code",
   "execution_count": 5,
   "id": "52f59b9a",
   "metadata": {},
   "outputs": [],
   "source": [
    "#path that where you want to automatic dile sorter in file exprorer\n",
    "path = r\"C:/Workspace/Python/!PythonUsingJupyter/AutomaticFileSorterInFileExplorer/\"\n"
   ]
  },
  {
   "cell_type": "code",
   "execution_count": 6,
   "id": "73b22057",
   "metadata": {},
   "outputs": [],
   "source": [
    "#file in the path\n",
    "file_names = os.listdir(path) "
   ]
  },
  {
   "cell_type": "code",
   "execution_count": 7,
   "id": "c464a381",
   "metadata": {},
   "outputs": [],
   "source": [
    "#create folder name lists\n",
    "folder_names = ['gif files', 'jpg files','xlsx files', 'txt files']\n",
    "\n",
    "#loop list folder_names\n",
    "for loopFile in range(0,4):\n",
    "    #if the path + folder name doesnot exists\n",
    "    if not os.path.exists(path + folder_names[loopFile]):\n",
    "        #print(path + folder_names[loopFile])\n",
    "        #create folder with folder_names \n",
    "        os.mkdir(path + folder_names[loopFile])"
   ]
  },
  {
   "cell_type": "code",
   "execution_count": 8,
   "id": "9cf36fa4",
   "metadata": {},
   "outputs": [],
   "source": [
    "#loop for the file_name\n",
    "for file in file_names:\n",
    "    #checking if the .xlsx file is in the file_name, and the is not in folder of the xlsx file\n",
    "    if \".xlsx\" in file and not os.path.exists(path + \"xlsx files/\" + file):\n",
    "        #move the file into the folder\n",
    "        shutil.move(path+file, path+\"xlsx files/\"+file)\n",
    "    elif \".txt\" in file and not os.path.exists(path + \"txt files/\" + file):\n",
    "        #move the file into the folder\n",
    "        shutil.move(path+file, path+\"txt files/\"+file)\n",
    "    elif \".jpg\" in file and not os.path.exists(path + \"jpg files/\" + file):\n",
    "        #move the file into the folder\n",
    "        shutil.move(path+file, path+\"jpg files/\"+file)\n",
    "    elif \".gif\" in file and not os.path.exists(path + \"gif files/\" + file):\n",
    "        #move the file into the folder\n",
    "        shutil.move(path+file, path+\"gif files/\"+file)"
   ]
  },
  {
   "cell_type": "code",
   "execution_count": null,
   "id": "c78cddea",
   "metadata": {},
   "outputs": [],
   "source": []
  }
 ],
 "metadata": {
  "kernelspec": {
   "display_name": "Python 3 (ipykernel)",
   "language": "python",
   "name": "python3"
  },
  "language_info": {
   "codemirror_mode": {
    "name": "ipython",
    "version": 3
   },
   "file_extension": ".py",
   "mimetype": "text/x-python",
   "name": "python",
   "nbconvert_exporter": "python",
   "pygments_lexer": "ipython3",
   "version": "3.11.3"
  }
 },
 "nbformat": 4,
 "nbformat_minor": 5
}
